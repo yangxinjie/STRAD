{
 "cells": [
  {
   "cell_type": "code",
   "execution_count": 92,
   "metadata": {},
   "outputs": [],
   "source": [
    "import pandas as pd\n",
    "import numpy as np\n",
    "X_train=np.load('x_train_mawilab.npy')\n",
    "X_test=np.load('x_test_mawilab.npy')\n",
    "y_train=np.load('y_train_mawilab.npy')#pd.read_csv('../data/maiwilab300000.tsv',sep='\\t')['label']\n",
    "y_test=np.load('y_test_mawilab.npy')\n",
    "x=np.concatenate((X_train,X_test),axis=0)\n",
    "y=np.concatenate((y_train,y_test),axis=0)\n",
    "x=pd.DataFrame(x)\n",
    "cols_to_norm = [ i for i in range(0,63) ]\n",
    "\n",
    "x.loc[:, cols_to_norm] = (x[cols_to_norm] - x[cols_to_norm].mean()) / x[cols_to_norm].std()\n",
    "x=x.values\n",
    "X_train=x[:87500]\n",
    "X_test=x[87500:]\n",
    "y_test=y[87500:]"
   ]
  },
  {
   "cell_type": "code",
   "execution_count": 93,
   "metadata": {},
   "outputs": [],
   "source": [
    "\n",
    "from sklearn.metrics import roc_curve, auc\n",
    "\n",
    "import sklearn as sk\n",
    "\n",
    "def evaluate(actual, predictions):\n",
    "    FPR, TPR, thresholds = roc_curve(actual, predictions)\n",
    "    cen = auc(FPR, TPR) \n",
    "    RightIndex=(TPR+(1-FPR)-1)\n",
    "    index=np.argmax(RightIndex)\n",
    "    tpr_val=TPR[index]\n",
    "    fpr_val=FPR[index]\n",
    "    thresholds_val=thresholds[index]\n",
    "    y_pred=[0 if i<thresholds_val else 1 for i in predictions]\n",
    "    y_pred_test=y_pred\n",
    "    y_test_test=actual\n",
    "    pre=sk.metrics.precision_score(y_test_test, y_pred_test)\n",
    "    rec=sk.metrics.recall_score(y_test_test, y_pred_test)\n",
    "    f1= sk.metrics.f1_score(y_test_test, y_pred_test)\n",
    "    print(\"AUC\", cen)\n",
    "    print(\"Precision\", pre)\n",
    "    print( \"Recall\",rec)\n",
    "    print( \"f1_score\", f1)\n",
    "    mat=sk.metrics.confusion_matrix(y_test_test, y_pred_test)\n",
    "    tp=mat[1][1]\n",
    "    fn=mat[1][0]\n",
    "    fp=mat[0][1]\n",
    "    tn=mat[0][0]\n",
    "    print(\"TPR\",tp/(tp+fn))\n",
    "    print(\"FPR\",fp/(tn+fp))\n"
   ]
  },
  {
   "cell_type": "code",
   "execution_count": 94,
   "metadata": {},
   "outputs": [],
   "source": [
    "n_classes=len(np.unique(y))"
   ]
  },
  {
   "cell_type": "code",
   "execution_count": 95,
   "metadata": {},
   "outputs": [],
   "source": [
    "from sklearn.mixture import GaussianMixture\n",
    "classifiers = dict((covar_type, GaussianMixture(n_components=n_classes,\n",
    "                    covariance_type=covar_type,max_iter=200, random_state=0,init_params='kmeans',warm_start=True))\n",
    "                   for covar_type in ['spherical', 'diag'])\n",
    "n_classifiers = len(classifiers)"
   ]
  },
  {
   "cell_type": "code",
   "execution_count": 97,
   "metadata": {},
   "outputs": [
    {
     "name": "stdout",
     "output_type": "stream",
     "text": [
      "spherical\n",
      "Counter({0: 8713, 1: 3787}) Counter({0.0: 7379, 1.0: 5121})\n",
      "AUC 0.8573472236148654\n",
      "Precision 0.9801954053340375\n",
      "Recall 0.7248584260886546\n",
      "f1_score 0.8334081724292771\n",
      "TPR 0.7248584260886546\n",
      "FPR 0.010163978858923974\n",
      "diag\n",
      "Counter({0: 12500}) Counter({0.0: 7379, 1.0: 5121})\n",
      "AUC 0.5\n",
      "Precision 0.0\n",
      "Recall 0.0\n",
      "f1_score 0.0\n",
      "TPR 0.0\n",
      "FPR 0.0\n"
     ]
    },
    {
     "name": "stderr",
     "output_type": "stream",
     "text": [
      "/root/anaconda3/envs/lr/lib/python3.6/site-packages/sklearn/metrics/_classification.py:1221: UndefinedMetricWarning: Precision is ill-defined and being set to 0.0 due to no predicted samples. Use `zero_division` parameter to control this behavior.\n",
      "  _warn_prf(average, modifier, msg_start, len(result))\n"
     ]
    }
   ],
   "source": [
    "import collections\n",
    "\n",
    "for index, (name, classifier) in enumerate(classifiers.items()):\n",
    "    print(name)\n",
    "    # Since we have class labels for the training data, we can\n",
    "    # initialize the GMM parameters in a supervised manner.\n",
    "    classifier.means_init = np.array([X_test[y_test == i].mean(axis=0) for i in range(n_classes)])\n",
    "    \n",
    "    # Train the other parameters using the EM algorithm.\n",
    "    classifier.fit(X_test)\n",
    "    y_test_pred = classifier.predict(X_test)\n",
    "    y_test_pred2=[]\n",
    "    for i in y_test_pred:\n",
    "        if i==0:\n",
    "            y_test_pred2.append(0)\n",
    "        else:\n",
    "            y_test_pred2.append(1)\n",
    "            \n",
    "    count=collections.Counter(y_test_pred2 )\n",
    "    count2=collections.Counter(y_test)\n",
    "    print(count,count2)\n",
    "    evaluate(y_test,y_test_pred2)\n",
    "#     test_accuracy = np.mean(y_test_pred.ravel() == y_test.ravel()) * 100\n",
    "#     #evaluate(y_test,y_test_pred)\n",
    "#     print(test_accuracy)\n"
   ]
  },
  {
   "cell_type": "code",
   "execution_count": 168,
   "metadata": {},
   "outputs": [
    {
     "data": {
      "text/plain": [
       "0.5"
      ]
     },
     "execution_count": 168,
     "metadata": {},
     "output_type": "execute_result"
    }
   ],
   "source": [
    "np.mean(y_train_pred.ravel() == y_train.ravel())"
   ]
  },
  {
   "cell_type": "code",
   "execution_count": 99,
   "metadata": {},
   "outputs": [
    {
     "data": {
      "text/plain": [
       "0.97008"
      ]
     },
     "execution_count": 99,
     "metadata": {},
     "output_type": "execute_result"
    }
   ],
   "source": [
    "np.mean(y_test_pred.ravel() == y_test.ravel())"
   ]
  },
  {
   "cell_type": "code",
   "execution_count": 100,
   "metadata": {},
   "outputs": [
    {
     "data": {
      "text/plain": [
       "array([ True,  True,  True, ..., False, False, False])"
      ]
     },
     "execution_count": 100,
     "metadata": {},
     "output_type": "execute_result"
    }
   ],
   "source": [
    "y_test_pred.ravel() == y_test.ravel()"
   ]
  },
  {
   "cell_type": "code",
   "execution_count": 101,
   "metadata": {},
   "outputs": [
    {
     "data": {
      "text/plain": [
       "array([0, 0, 0, ..., 0, 0, 0])"
      ]
     },
     "execution_count": 101,
     "metadata": {},
     "output_type": "execute_result"
    }
   ],
   "source": [
    "y_test_pred.ravel()"
   ]
  },
  {
   "cell_type": "code",
   "execution_count": 3,
   "metadata": {},
   "outputs": [
    {
     "data": {
      "text/plain": [
       "(800, 2)"
      ]
     },
     "execution_count": 3,
     "metadata": {},
     "output_type": "execute_result"
    }
   ],
   "source": [
    "X_train.shape"
   ]
  },
  {
   "cell_type": "code",
   "execution_count": 4,
   "metadata": {},
   "outputs": [
    {
     "data": {
      "text/plain": [
       "array([3, 1, 0, 5, 3, 3, 5, 1, 1, 3, 0, 5, 0, 1, 1, 0, 1, 1, 0, 3, 0, 3,\n",
       "       3, 0, 0, 5, 1, 1, 3, 1, 1, 1, 0, 3, 1, 1, 3, 1, 0, 0, 0, 1, 3, 1,\n",
       "       1, 1, 0, 3, 3, 0, 1, 1, 1, 1, 1, 3, 1, 0, 0, 5, 0, 0, 1, 3, 3, 1,\n",
       "       3, 1, 1, 3, 3, 1, 3, 0, 1, 3, 3, 3, 3, 0, 0, 0, 5, 0, 0, 0, 0, 3,\n",
       "       0, 1, 3, 0, 0, 3, 3, 0, 1, 1, 0, 1, 0, 1, 1, 0, 0, 3, 3, 0, 3, 0,\n",
       "       1, 0, 1, 0, 3, 3, 1, 3, 0, 1, 0, 3, 0, 1, 0, 3, 3, 0, 0, 3, 0, 0,\n",
       "       0, 1, 1, 3, 1, 1, 1, 3, 0, 3, 1, 1, 0, 3, 3, 3, 3, 3, 0, 3, 0, 0,\n",
       "       3, 1, 1, 1, 1, 1, 1, 3, 3, 3, 3, 3, 0, 0, 0, 0, 3, 1, 1, 0, 1, 0,\n",
       "       1, 3, 3, 3, 0, 3, 1, 1, 0, 3, 5, 3, 3, 1, 1, 3, 3, 5, 3, 3, 0, 0,\n",
       "       3, 1])"
      ]
     },
     "execution_count": 4,
     "metadata": {},
     "output_type": "execute_result"
    }
   ],
   "source": [
    "Y_pred"
   ]
  },
  {
   "cell_type": "code",
   "execution_count": null,
   "metadata": {},
   "outputs": [],
   "source": []
  }
 ],
 "metadata": {
  "kernelspec": {
   "display_name": "Python [conda env:lr] *",
   "language": "python",
   "name": "conda-env-lr-py"
  },
  "language_info": {
   "codemirror_mode": {
    "name": "ipython",
    "version": 3
   },
   "file_extension": ".py",
   "mimetype": "text/x-python",
   "name": "python",
   "nbconvert_exporter": "python",
   "pygments_lexer": "ipython3",
   "version": "3.6.10"
  }
 },
 "nbformat": 4,
 "nbformat_minor": 4
}
